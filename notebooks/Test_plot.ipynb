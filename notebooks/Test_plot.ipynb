{
  "nbformat": 4,
  "nbformat_minor": 0,
  "metadata": {
    "colab": {
      "name": "Test_plot.ipynb",
      "provenance": [],
      "collapsed_sections": [
        "oog32ubefFLd",
        "NYgxIbdQfIVE",
        "ZfWdb0WffMup",
        "Q6tWwfUF0D-E",
        "dgL4ATIT2lDd"
      ]
    },
    "kernelspec": {
      "name": "python3",
      "display_name": "Python 3"
    },
    "language_info": {
      "name": "python"
    }
  },
  "cells": [
    {
      "cell_type": "code",
      "metadata": {
        "id": "CmkB5OHC-V-_"
      },
      "source": [
        "import numpy as np\n",
        "import matplotlib.pyplot as plt\n",
        "import sys\n",
        "import seaborn as sns\n",
        "import matplotlib as mpl\n",
        "from sklearn.metrics import confusion_matrix"
      ],
      "execution_count": null,
      "outputs": []
    },
    {
      "cell_type": "code",
      "metadata": {
        "id": "YWi4YgrlBsHC"
      },
      "source": [
        "x_train, y_train = np.load('training_images.npy'), np.load('training_labels.npy')\n",
        "x_test, y_test = np.load('test_images.npy'), np.load('test_labels.npy')\n",
        "pred = np.load('preds.npy')"
      ],
      "execution_count": null,
      "outputs": []
    },
    {
      "cell_type": "markdown",
      "metadata": {
        "id": "oog32ubefFLd"
      },
      "source": [
        "# plot_input_images"
      ]
    },
    {
      "cell_type": "code",
      "metadata": {
        "id": "LRrtvn7xBlV3"
      },
      "source": [
        "def plot_input_images(x_train, y_train, class_names):\n",
        "    \"\"\"\n",
        "    This function plots first 30 images of the data given in the input with their labels.\n",
        "\n",
        "    Parameters\n",
        "    ----------\n",
        "    x_train : numpy.ndarray\n",
        "        Input images to plot. (having shape: (m, x, x, 3) )\n",
        "    y_train : numpy.ndarray\n",
        "        Labels of the given images. (having shape: (m, #num_classes) )\n",
        "    class_names : list\n",
        "        List of strings that shows the our classes's name.\n",
        "    \"\"\"\n",
        "    plt.figure(figsize=(20, 20))\n",
        "    for i in range(30):\n",
        "        plt.subplot(10, 10, i + 1)\n",
        "        plt.xticks([])\n",
        "        plt.yticks([])\n",
        "        plt.grid(False)\n",
        "        plt.imshow(x_train[i])\n",
        "        classes = \"\"\n",
        "        for j in range(8):\n",
        "            if y_train[i][j] >= 0.5:\n",
        "                classes = classes + class_names[j] + \"\\n\"\n",
        "        plt.xlabel(classes, fontsize=14, color=\"black\", labelpad=1)\n",
        "\n",
        "    plt.subplots_adjust(\n",
        "        bottom=0.04, right=0.95, top=0.94, left=0.06, wspace=0.56, hspace=0.17\n",
        "    )\n",
        "    plt.show()"
      ],
      "execution_count": null,
      "outputs": []
    },
    {
      "cell_type": "code",
      "metadata": {
        "id": "yb0p5wRRB7ug"
      },
      "source": [
        "class_names = [\n",
        "        \"Normal\",\n",
        "        \"Diabetes\",\n",
        "        \"Glaucoma\",\n",
        "        \"Cataract\",\n",
        "        \"AMD\",\n",
        "        \"Hypertension\",\n",
        "        \"Myopia\",\n",
        "        \"Others\",\n",
        "    ]\n",
        "plot_input_images(x_train, y_train, class_names)"
      ],
      "execution_count": null,
      "outputs": []
    },
    {
      "cell_type": "markdown",
      "metadata": {
        "id": "NYgxIbdQfIVE"
      },
      "source": [
        "# plot_image"
      ]
    },
    {
      "cell_type": "code",
      "metadata": {
        "id": "GKlt_KAjOZa_"
      },
      "source": [
        "def calculate_3_largest(arr, arr_size):\n",
        "    \"\"\"\n",
        "    Gives first three largest values and corresponding indices of given 1D numpy array.\n",
        "\n",
        "    Parameters\n",
        "    ----------\n",
        "    arr : numpy.ndarray\n",
        "        Input 1D numpy array\n",
        "    arr_size : int\n",
        "        length of the given array\n",
        "\n",
        "    Returns\n",
        "    -------\n",
        "    float, int\n",
        "        returns 6 numbers, first three numbers are the largest elements.\n",
        "        seconde three numbers are the indices of these largest elements in the array.\n",
        "    \"\"\"\n",
        "    assert arr_size > 3, \"Invalid Input\"\n",
        "    sorted_array = np.sort(arr)\n",
        "    sorted_idx = np.argsort(arr)\n",
        "\n",
        "    return (\n",
        "        sorted_array[-1],\n",
        "        sorted_array[-2],\n",
        "        sorted_array[-3],\n",
        "        sorted_idx[-1],\n",
        "        sorted_idx[-2],\n",
        "        sorted_idx[-3],\n",
        "    )"
      ],
      "execution_count": null,
      "outputs": []
    },
    {
      "cell_type": "code",
      "metadata": {
        "id": "nYckybO9CCEc"
      },
      "source": [
        "def plot_image(pred, label, image, class_names):\n",
        "    \"\"\"\n",
        "    This function plots a single image with the true label and the predictions we have for this image.\n",
        "\n",
        "    Parameters\n",
        "    ----------\n",
        "    pred : numpy.ndarray\n",
        "        prediction array for this image(it should have #num_class elements).\n",
        "    label : numpy.ndarray\n",
        "        ground trouth array for this image(it should have #num_class elements).\n",
        "    image : numpy.ndarray\n",
        "        Input Image ( having shape=(x, x, 3) )\n",
        "    class_names : list\n",
        "        List of strings that shows the our classes's name.\n",
        "    \"\"\"\n",
        "    plt.grid(False)\n",
        "    plt.xticks([])\n",
        "    plt.yticks([])\n",
        "\n",
        "    plt.imshow(image)\n",
        "    label_check = [0, 0, 0, 0, 0, 0, 0, 0]\n",
        "    ground = \"\"\n",
        "    count_true = 0\n",
        "    predicted_true = 0\n",
        "\n",
        "    for index in range(8):\n",
        "        if label[index] >= 0.5:\n",
        "            count_true = count_true + 1\n",
        "            ground = ground + class_names[index] + \"\\n\"\n",
        "            label_check[index] = 1\n",
        "        if pred[index] >= 0.5:\n",
        "            predicted_true = predicted_true + 1\n",
        "            label_check[index] = label_check[index] + 1\n",
        "\n",
        "    all_match = True\n",
        "    for index in range(8):\n",
        "        if label_check[index] == 1:\n",
        "            all_match = False\n",
        "\n",
        "    if count_true == predicted_true and all_match:\n",
        "        color = \"green\"\n",
        "    else:\n",
        "        color = \"red\"\n",
        "\n",
        "    first, second, third, i, j, k = calculate_3_largest(pred, 8)\n",
        "    prediction = \"{} {:2.0f}% \\n\".format(class_names[i], 100 * first)\n",
        "    if second >= 0.5:\n",
        "        prediction = prediction + \"{} {:2.0f}% \\n\".format(class_names[j], 100 * second)\n",
        "    if third >= 0.5:\n",
        "        prediction = prediction + \"{} {:2.0f}% \\n\".format(class_names[k], 100 * third)\n",
        "    plt.xlabel(\"Predicted: {} Ground Truth: {}\".format(prediction, ground), color=color)"
      ],
      "execution_count": null,
      "outputs": []
    },
    {
      "cell_type": "code",
      "metadata": {
        "id": "RJlhnFk0Oeqz"
      },
      "source": [
        "class_names = [\n",
        "        \"Normal\",\n",
        "        \"Diabetes\",\n",
        "        \"Glaucoma\",\n",
        "        \"Cataract\",\n",
        "        \"AMD\",\n",
        "        \"Hypertension\",\n",
        "        \"Myopia\",\n",
        "        \"Others\",\n",
        "    ]\n",
        "plot_image(pred[5], y_test[5], x_test[5], class_names)"
      ],
      "execution_count": null,
      "outputs": []
    },
    {
      "cell_type": "markdown",
      "metadata": {
        "id": "ZfWdb0WffMup"
      },
      "source": [
        "# plot_value_array"
      ]
    },
    {
      "cell_type": "code",
      "metadata": {
        "id": "yrTP8X2MPfS6"
      },
      "source": [
        "def plot_value_array(pred, label):\n",
        "    \"\"\"\n",
        "    This function plots a bar chart shows the membership rate of the given image in each class.\n",
        "    red bar shows our prediction rates.\n",
        "    green bar shows gound trouth rates.\n",
        "\n",
        "    Parameters\n",
        "    ----------\n",
        "    pred : numpy.ndarray\n",
        "        prediction array for this image(it should have #num_class elements).\n",
        "    label : numpy.ndarray\n",
        "        ground trouth array for this image(it should have #num_class elements).\n",
        "    \"\"\"\n",
        "    plt.grid(False)\n",
        "    plt.xticks([])\n",
        "    plt.yticks([])\n",
        "    bar_plot = plt.bar(range(8), pred, color=\"#777777\")\n",
        "    plt.xticks(range(8), (\"N\", \"D\", \"G\", \"C\", \"A\", \"H\", \"M\", \"O\"))\n",
        "    plt.ylim([0, 1])\n",
        "\n",
        "    for j in range(8):\n",
        "        if label[j] >= 0.5:\n",
        "            bar_plot[j].set_color(\"green\")\n",
        "\n",
        "    for j in range(8):\n",
        "        if pred[j] >= 0.5 and label[j] < 0.5:\n",
        "            bar_plot[j].set_color(\"red\")\n",
        "\n",
        "    def bar_label(rects):\n",
        "        for rect in rects:\n",
        "            height = rect.get_height()\n",
        "            value = height * 100\n",
        "            if value > 1:\n",
        "                plt.annotate(\n",
        "                    \"{:2.0f}%\".format(value),\n",
        "                    xy=(rect.get_x() + rect.get_width() / 2, height),\n",
        "                    xytext=(0, 3),  # 3 points vertical offset\n",
        "                    textcoords=\"offset points\",\n",
        "                    ha=\"center\",\n",
        "                    va=\"bottom\",\n",
        "                )\n",
        "\n",
        "    bar_label(bar_plot)"
      ],
      "execution_count": null,
      "outputs": []
    },
    {
      "cell_type": "code",
      "metadata": {
        "id": "gCqxhNINWIxi"
      },
      "source": [
        "plot_value_array(pred[7], y_test[7])"
      ],
      "execution_count": null,
      "outputs": []
    },
    {
      "cell_type": "markdown",
      "metadata": {
        "id": "Q6tWwfUF0D-E"
      },
      "source": [
        "# plot_output"
      ]
    },
    {
      "cell_type": "code",
      "metadata": {
        "id": "hjqjOTB01uXU"
      },
      "source": [
        "def ensure_test_prediction_exists(predictions):\n",
        "    \"\"\"\n",
        "    This function ensures if the prediction vector has at least a probability more that 0.5\n",
        "\n",
        "    Parameters\n",
        "    ----------\n",
        "    predictions : numpy.ndarray\n",
        "        prediction array to test(it should have #num_class elements).\n",
        "\n",
        "    Returns\n",
        "    -------\n",
        "    bool\n",
        "        zero if not valid | one if valid.\n",
        "    \"\"\"\n",
        "    exists = False\n",
        "    for j in range(8):\n",
        "        if predictions[j] >= 0.5:\n",
        "            exists = True\n",
        "    return exists"
      ],
      "execution_count": null,
      "outputs": []
    },
    {
      "cell_type": "code",
      "metadata": {
        "id": "hWwVog-tfajK"
      },
      "source": [
        "def plot_output(pred, y_test, x_test, path_result, class_names):\n",
        "    \"\"\"\n",
        "    This function plots first 10 images of the given data with their labels using bar chart.\n",
        "\n",
        "    Parameters\n",
        "    ----------\n",
        "    pred : numpy.ndarray\n",
        "        prediction array for this image (having shape: (m, #num_classes) ).\n",
        "    y_test : numpy.ndarray\n",
        "        ground trouth array for this image(having shape: (m, #num_classes) ).\n",
        "    x_test : numpy.ndarray\n",
        "        The test images. ( having shape: (m, x, x, 3) )\n",
        "    path_result : str\n",
        "        Direct path to the file you want to save the results in.\n",
        "    class_names : list\n",
        "        List of strings that shows the our classes's name.\n",
        "    \"\"\"\n",
        "    mpl.rcParams[\"font.size\"] = 8\n",
        "    num_rows = 3\n",
        "    num_cols = 3\n",
        "    num_images = num_rows * num_cols\n",
        "    plt.figure(figsize=(2 * 2 * num_cols, 2 * num_rows))\n",
        "    j = 0\n",
        "    i = 0\n",
        "    while j < num_images:\n",
        "        if ensure_test_prediction_exists(pred[i]):\n",
        "            plt.subplot(num_rows, 2 * num_cols, 2 * j + 1)\n",
        "            plot_image(pred[i], y_test[i], x_test[i], class_names)\n",
        "            plt.subplot(num_rows, 2 * num_cols, 2 * j + 2)\n",
        "            plot_value_array(pred[i], y_test[i])\n",
        "            j = j + 1\n",
        "        i = i + 1\n",
        "        if i > 10:\n",
        "            break\n",
        "\n",
        "    plt.subplots_adjust(\n",
        "        bottom=0.08, right=0.95, top=0.94, left=0.05, wspace=0.11, hspace=0.56\n",
        "    )\n",
        "    #plt.savefig(path_result)\n",
        "    plt.show()"
      ],
      "execution_count": null,
      "outputs": []
    },
    {
      "cell_type": "code",
      "metadata": {
        "id": "wL8OgUG80xHa"
      },
      "source": [
        "class_names = [\n",
        "        \"Normal\",\n",
        "        \"Diabetes\",\n",
        "        \"Glaucoma\",\n",
        "        \"Cataract\",\n",
        "        \"AMD\",\n",
        "        \"Hypertension\",\n",
        "        \"Myopia\",\n",
        "        \"Others\",\n",
        "    ]\n",
        "plot_output(pred, y_test, x_test, \"asd\", class_names)"
      ],
      "execution_count": null,
      "outputs": []
    },
    {
      "cell_type": "markdown",
      "metadata": {
        "id": "dgL4ATIT2lDd"
      },
      "source": [
        "# plot_output_single"
      ]
    },
    {
      "cell_type": "code",
      "metadata": {
        "id": "xlm8A5OU1m1H"
      },
      "source": [
        "def plot_output_single(pred, y_test, x_test, class_names):\n",
        "    \"\"\"\n",
        "    This function plots the given image with its labels using bar chart.\n",
        "\n",
        "    Parameters\n",
        "    ----------\n",
        "    pred : numpy.ndarray\n",
        "        prediction array for image (having shape: (#num_classes,) ).\n",
        "    y_test : numpy.ndarray\n",
        "        ground trouth array for image(having shape: (#num_classes,) ).\n",
        "    x_test : numpy.ndarray\n",
        "        The test images. ( having shape: (x, x, 3) )\n",
        "    class_names : list\n",
        "        List of strings that shows the our classes's name.\n",
        "    \"\"\"\n",
        "    plt.figure(figsize=(6, 3))\n",
        "    plt.subplot(1, 2, 1)\n",
        "    plot_image(pred, y_test, x_test, class_names)\n",
        "    plt.subplot(1, 2, 2)\n",
        "    plot_value_array(pred, y_test)\n",
        "    plt.show()"
      ],
      "execution_count": null,
      "outputs": []
    },
    {
      "cell_type": "code",
      "metadata": {
        "id": "lIdCItwo4VFy"
      },
      "source": [
        "class_names = [\n",
        "        \"Normal\",\n",
        "        \"Diabetes\",\n",
        "        \"Glaucoma\",\n",
        "        \"Cataract\",\n",
        "        \"AMD\",\n",
        "        \"Hypertension\",\n",
        "        \"Myopia\",\n",
        "        \"Others\",\n",
        "    ]\n",
        "plot_output_single(pred[0], y_test[0], x_test[0], class_names)"
      ],
      "execution_count": null,
      "outputs": []
    },
    {
      "cell_type": "markdown",
      "metadata": {
        "id": "eOz2VR0u6UNT"
      },
      "source": [
        "# plot_confusion_matrix"
      ]
    },
    {
      "cell_type": "code",
      "metadata": {
        "id": "R5z2dg4P4Z8-"
      },
      "source": [
        "def plot_confusion_matrix(y_test, pred, normalize=False, title=None, cmap=plt.cm.Blues):\n",
        "    \"\"\"\n",
        "    This function prints and plots the confusion matrix.\n",
        "    Normalization can be applied by setting `normalize=True`.\n",
        "\n",
        "    Parameters\n",
        "    ----------\n",
        "    y_test : numpy.ndarray\n",
        "        ground trouth array for this image(having shape: (m, #num_classes) ).\n",
        "    pred : numpy.ndarray\n",
        "        prediction array for this image (having shape: (m, #num_classes) ).\n",
        "    normalize : bool, optional\n",
        "        Defines if you want to normalize the outputs or not, by default False\n",
        "    title : str, optional\n",
        "        Title of the output chart, by default None\n",
        "    cmap : plt.cm object, optional\n",
        "        cmap used in atplotlib functions, by default plt.cm.Blues\n",
        "    \"\"\"\n",
        "\n",
        "    if not title:\n",
        "        if normalize:\n",
        "            title = \"Normalized confusion matrix\"\n",
        "        else:\n",
        "            title = \"Confusion matrix, without normalization\"\n",
        "\n",
        "    # Compute confusion matrix\n",
        "    cm = confusion_matrix(y_test.argmax(axis=1), pred.argmax(axis=1))\n",
        "    # Only use the labels that appear in the data\n",
        "    if normalize:\n",
        "        cm = cm.astype(\"float\") / cm.sum(axis=1)[:, np.newaxis]\n",
        "        print(\"Normalized confusion matrix\")\n",
        "    else:\n",
        "        print(\"Confusion matrix, without normalization\")\n",
        "\n",
        "    print(cm)\n",
        "\n",
        "    fig, ax = plt.subplots()\n",
        "    im = ax.imshow(cm, interpolation=\"nearest\", cmap=cmap)\n",
        "    ax.figure.colorbar(im, ax=ax)\n",
        "    # We want to show all ticks...\n",
        "    ax.set(\n",
        "        xticks=np.arange(cm.shape[1]),\n",
        "        yticks=np.arange(cm.shape[0]),\n",
        "        # ... and label them with the respective list entries\n",
        "        # xticklabels=classes, yticklabels=classes,\n",
        "        title=title,\n",
        "        ylabel=\"True label\",\n",
        "        xlabel=\"Predicted label\",\n",
        "    )\n",
        "    ax.set_ylim(8.0, -1.0)\n",
        "    # Rotate the tick labels and set their alignment.\n",
        "    plt.setp(ax.get_xticklabels(), rotation=45, ha=\"right\", rotation_mode=\"anchor\")\n",
        "\n",
        "    # Loop over data dimensions and create text annotations.\n",
        "    fmt = \".2f\" if normalize else \"d\"\n",
        "    thresh = cm.max() / 2.0\n",
        "    for i in range(cm.shape[0]):\n",
        "        for j in range(cm.shape[1]):\n",
        "            ax.text(\n",
        "                j,\n",
        "                i,\n",
        "                format(cm[i, j], fmt),\n",
        "                ha=\"center\",\n",
        "                va=\"center\",\n",
        "                color=\"white\" if cm[i, j] > thresh else \"black\",\n",
        "            )\n",
        "    fig.tight_layout()"
      ],
      "execution_count": null,
      "outputs": []
    },
    {
      "cell_type": "code",
      "metadata": {
        "id": "xuoTIkK46uZZ"
      },
      "source": [
        "plot_confusion_matrix(y_test, pred)"
      ],
      "execution_count": null,
      "outputs": []
    },
    {
      "cell_type": "markdown",
      "metadata": {
        "id": "Esqyvs3E8gSM"
      },
      "source": [
        "# print_both_confusion_matrix"
      ]
    },
    {
      "cell_type": "code",
      "metadata": {
        "id": "sRWux8cZ7W2j"
      },
      "source": [
        "def print_both_confusion_matrix(y_test, pred):\n",
        "    \"\"\"\n",
        "    This function plots both the normalized and non-normalized confusion matrixes.\n",
        "\n",
        "    Parameters\n",
        "    ----------\n",
        "    y_test : numpy.ndarray\n",
        "        ground trouth array for this image(having shape: (m, #num_classes) ).\n",
        "    pred : numpy.ndarray\n",
        "        prediction array for this image (having shape: (m, #num_classes) ).\n",
        "    \"\"\"\n",
        "\n",
        "    np.set_printoptions(precision=2)\n",
        "\n",
        "    # Plot non-normalized confusion matrix\n",
        "    plot_confusion_matrix(\n",
        "        y_test,\n",
        "        pred,\n",
        "        title=\"Confusion matrix, without normalization\",\n",
        "    )\n",
        "\n",
        "    # Plot normalized confusion matrix\n",
        "    plot_confusion_matrix(\n",
        "        y_test,\n",
        "        pred,\n",
        "        normalize=True,\n",
        "        title=\"Normalized confusion matrix\",\n",
        "    )\n",
        "\n",
        "    plt.show()"
      ],
      "execution_count": null,
      "outputs": []
    },
    {
      "cell_type": "code",
      "metadata": {
        "id": "FBvws5749XrU"
      },
      "source": [
        "print_both_confusion_matrix(y_test, pred)"
      ],
      "execution_count": null,
      "outputs": []
    },
    {
      "cell_type": "markdown",
      "metadata": {
        "id": "u17I94fI-muh"
      },
      "source": [
        "# plot_confusion_matrix_sns"
      ]
    },
    {
      "cell_type": "code",
      "metadata": {
        "id": "wyN3tzir9bww"
      },
      "source": [
        "def plot_confusion_matrix_sns(y_test, pred, path_result):\n",
        "    \"\"\"\n",
        "    This Function plots the confusion matrix using seaborn library.\n",
        "\n",
        "    Parameters\n",
        "    ----------\n",
        "    y_test : numpy.ndarray\n",
        "        ground trouth array for this image(having shape: (m, #num_classes) ).\n",
        "    pred : numpy.ndarray\n",
        "        prediction array for this image (having shape: (m, #num_classes) ).\n",
        "    path_result : str\n",
        "        Direct path to the file you want to save the results in.\n",
        "    \"\"\"\n",
        "\n",
        "    cm = confusion_matrix(y_test.argmax(axis=1), pred.argmax(axis=1))\n",
        "    plt.figure(figsize=(6, 6))\n",
        "    ax = sns.heatmap(cm, annot=True, fmt=\"d\")\n",
        "    ax.set_ylim(8.0, -1.0)\n",
        "    plt.title(\"Confusion matrix\")\n",
        "    plt.ylabel(\"Actual label\")\n",
        "    plt.xlabel(\"Predicted label\")\n",
        "    plt.savefig(path_result)\n",
        "    plt.subplots_adjust(\n",
        "        top=0.94, bottom=0.11, left=0.12, right=1.00, hspace=0.20, wspace=0.18\n",
        "    )\n",
        "    plt.show()\n",
        "    plt.close()"
      ],
      "execution_count": null,
      "outputs": []
    },
    {
      "cell_type": "code",
      "metadata": {
        "id": "vHflpox7-ppF"
      },
      "source": [
        "plot_confusion_matrix_sns(y_test, pred, \"asd\")"
      ],
      "execution_count": null,
      "outputs": []
    },
    {
      "cell_type": "code",
      "metadata": {
        "id": "c0jkIc6y-uPg"
      },
      "source": [
        ""
      ],
      "execution_count": null,
      "outputs": []
    }
  ]
}