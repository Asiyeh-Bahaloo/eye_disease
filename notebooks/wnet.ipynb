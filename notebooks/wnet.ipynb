{
  "nbformat": 4,
  "nbformat_minor": 0,
  "metadata": {
    "colab": {
      "name": "wnet.ipynb",
      "provenance": [],
      "collapsed_sections": [
        "0hnhuyag_pAr",
        "rloRkPmRD2jW",
        "Ot7yoBwOGfl-"
      ]
    },
    "kernelspec": {
      "name": "python3",
      "display_name": "Python 3"
    },
    "language_info": {
      "name": "python"
    },
    "accelerator": "GPU"
  },
  "cells": [
    {
      "cell_type": "code",
      "metadata": {
        "id": "6PD-h2HvCcBg",
        "colab": {
          "base_uri": "https://localhost:8080/"
        },
        "outputId": "3c7fccd2-8a5b-4623-8352-f14ea3a8a952"
      },
      "source": [
        "!git clone https://github.com/agaldran/lwnet.git"
      ],
      "execution_count": 1,
      "outputs": [
        {
          "output_type": "stream",
          "name": "stdout",
          "text": [
            "Cloning into 'lwnet'...\n",
            "remote: Enumerating objects: 907, done.\u001b[K\n",
            "remote: Counting objects: 100% (55/55), done.\u001b[K\n",
            "remote: Compressing objects: 100% (41/41), done.\u001b[K\n",
            "remote: Total 907 (delta 32), reused 34 (delta 14), pack-reused 852\u001b[K\n",
            "Receiving objects: 100% (907/907), 13.64 MiB | 19.93 MiB/s, done.\n",
            "Resolving deltas: 100% (535/535), done.\n"
          ]
        }
      ]
    },
    {
      "cell_type": "code",
      "metadata": {
        "colab": {
          "base_uri": "https://localhost:8080/"
        },
        "id": "kaa4L2yftCmJ",
        "outputId": "e7ff28cd-1e24-4baf-8745-6a2a8205041d"
      },
      "source": [
        "!ls"
      ],
      "execution_count": 3,
      "outputs": [
        {
          "output_type": "stream",
          "name": "stdout",
          "text": [
            "analyze_results.py\tgenerate_results.py\t predict_one_image.py\n",
            "data\t\t\tget_public_data.py\t README.md\n",
            "environment.txt\t\tLICENSE\t\t\t train_cyclical.py\n",
            "experiments\t\tmodels\t\t\t utils\n",
            "generate_av_results.py\tpredict_one_image_av.py\n"
          ]
        }
      ]
    },
    {
      "cell_type": "code",
      "metadata": {
        "colab": {
          "base_uri": "https://localhost:8080/"
        },
        "id": "wkjnEs-wemKd",
        "outputId": "6bd9afc6-fd7c-4354-e473-e956cd2cfe9e"
      },
      "source": [
        "% cd /content/lwnet"
      ],
      "execution_count": 2,
      "outputs": [
        {
          "output_type": "stream",
          "name": "stdout",
          "text": [
            "/content/lwnet\n"
          ]
        }
      ]
    },
    {
      "cell_type": "code",
      "metadata": {
        "id": "Emw8e11BtVS4"
      },
      "source": [
        "!pip install pandas\n",
        "!pip install tqdm\n",
        "!pip install PIL\n",
        "!pip install torchvision\n",
        "!pip install numpy\n",
        "!pip install scikit-image"
      ],
      "execution_count": null,
      "outputs": []
    },
    {
      "cell_type": "markdown",
      "metadata": {
        "id": "0hnhuyag_pAr"
      },
      "source": [
        "# collecting data set"
      ]
    },
    {
      "cell_type": "code",
      "metadata": {
        "id": "bXS-zTiSAG85"
      },
      "source": [
        "!python get_public_data.py"
      ],
      "execution_count": null,
      "outputs": []
    },
    {
      "cell_type": "markdown",
      "metadata": {
        "id": "3xnn93xjBFPq"
      },
      "source": [
        "# training models"
      ]
    },
    {
      "cell_type": "code",
      "metadata": {
        "id": "QdQ_3TjtBRFB"
      },
      "source": [
        "!python train_cyclical.py --csv_train data/DRIVE/train.csv --cycle_lens 1/20 --model_name wnet --save_path wnet_drive --device cuda:0"
      ],
      "execution_count": null,
      "outputs": []
    },
    {
      "cell_type": "code",
      "metadata": {
        "id": "EruHBJpAEr5P"
      },
      "source": [
        "!python train_cyclical.py --csv_train data/CHASEDB/train.csv --cycle_lens 2/20 --model_name wnet --save_path wnet_chasedb --device cuda:0"
      ],
      "execution_count": null,
      "outputs": []
    },
    {
      "cell_type": "code",
      "metadata": {
        "id": "r-1ypihiN-kL"
      },
      "source": [
        "!python train_cyclical.py --csv_train data/DRIVE/train_av.csv --model_name big_wnet --cycle_len 4/30 --do_not_save False --save_path big_wnet_drive_av --device cuda:0"
      ],
      "execution_count": null,
      "outputs": []
    },
    {
      "cell_type": "markdown",
      "metadata": {
        "id": "rloRkPmRD2jW"
      },
      "source": [
        "# useing model"
      ]
    },
    {
      "cell_type": "code",
      "metadata": {
        "id": "iQWt-BdFEEL2"
      },
      "source": [
        "!python generate_results.py --config_file experiments/wnet_drive/config.cfg --dataset DRIVE --device cuda:0"
      ],
      "execution_count": null,
      "outputs": []
    },
    {
      "cell_type": "code",
      "metadata": {
        "id": "s14FDidKELhB"
      },
      "source": [
        "!python generate_av_results.py --config_file experiments/big_wnet_drive_av/config.cfg --dataset DRIVE --device cuda:0"
      ],
      "execution_count": null,
      "outputs": []
    },
    {
      "cell_type": "code",
      "metadata": {
        "id": "XIBSm_NUEZ3G"
      },
      "source": [
        "!python generate_results.py --config_file experiments/wnet_chasedb/config.cfg --dataset CHASEDB --device cuda:0"
      ],
      "execution_count": null,
      "outputs": []
    },
    {
      "cell_type": "markdown",
      "metadata": {
        "id": "Ot7yoBwOGfl-"
      },
      "source": [
        "# evaluating  models"
      ]
    },
    {
      "cell_type": "code",
      "metadata": {
        "id": "uSbcfxi4Gpvd"
      },
      "source": [
        "!python analyze_results.py --path_train_preds results/DRIVE/experiments/wnet_drive --path_test_preds results/DRIVE/experiments/wnet_drive --train_dataset DRIVE --test_dataset DRIVE"
      ],
      "execution_count": null,
      "outputs": []
    },
    {
      "cell_type": "code",
      "metadata": {
        "id": "qsfDsUsuHy_t"
      },
      "source": [
        "!python generate_results.py --config_file experiments/wnet_drive/config.cfg --dataset CHASEDB  --device cuda:0"
      ],
      "execution_count": null,
      "outputs": []
    },
    {
      "cell_type": "markdown",
      "metadata": {
        "id": "VfEy4Ar7I7eD"
      },
      "source": [
        "#predicting"
      ]
    },
    {
      "cell_type": "code",
      "metadata": {
        "id": "kFNtXutGI_Hj"
      },
      "source": [
        "!python predict_one_image.py --model_path experiments/wnet_drive/ --im_path data/AV-WIDE/images/wide_image_08.png --result_path my_results/ --mask_path data/AV-WIDE/masks/wide_image_08.png --device cuda:0 --bin_thresh 0.42"
      ],
      "execution_count": null,
      "outputs": []
    }
  ]
}